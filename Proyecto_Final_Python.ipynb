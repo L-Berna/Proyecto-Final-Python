{
  "cells": [
    {
      "cell_type": "markdown",
      "metadata": {
        "id": "vBy307TmsJeo"
      },
      "source": [
        "# Clasificador de imagenes entre DROWSY y NORMAL"
      ]
    },
    {
      "cell_type": "markdown",
      "source": [
        "Se hizo uso de una base de datos publica, de la pagina kaggle, debido a que no se conto con el tiempo para recolectar imagenes donde se cumplieran las condiciones de sueño al volante. Dicho set de datos esta dividido en dos grupos, DROWSY y NORMAL, ademas las imagenes estan en escala de grises para reducir la dimencion de los datos y se reescalaron a 48*48 pixeles para reducir el costo computacional."
      ],
      "metadata": {
        "id": "FFZCllL5OsSp"
      }
    },
    {
      "cell_type": "markdown",
      "metadata": {
        "id": "MIFwsFYOsAu8"
      },
      "source": [
        "## Carga de librerias"
      ]
    },
    {
      "cell_type": "code",
      "execution_count": 2,
      "metadata": {
        "id": "OKQHFcQpHyQv"
      },
      "outputs": [],
      "source": [
        "import tensorflow as tf\n",
        "import numpy as np\n",
        "import matplotlib.pyplot as plt\n",
        "import seaborn as sns\n",
        "from tensorflow.keras.preprocessing.image import ImageDataGenerator\n",
        "from tensorflow.keras.models import Sequential\n",
        "from tensorflow.keras.layers import Conv2D, MaxPooling2D, Flatten, Dense, Dropout\n",
        "from tensorflow.keras.optimizers import Adam\n",
        "from sklearn.metrics import classification_report, confusion_matrix\n",
        "import os"
      ]
    },
    {
      "cell_type": "markdown",
      "metadata": {
        "id": "IE8jlglNsYHA"
      },
      "source": [
        "## Configuracion de la ruta del DataSet"
      ]
    },
    {
      "cell_type": "code",
      "execution_count": 4,
      "metadata": {
        "id": "r5pqViRvKf_y"
      },
      "outputs": [],
      "source": [
        "base_dir = '/content/drive/MyDrive/IA/DDD'\n",
        "train_dir_drowsy = os.path.join(base_dir, 'DROWSY')\n",
        "train_dir_non_drowsy = os.path.join(base_dir, 'NATURAL')"
      ]
    },
    {
      "cell_type": "markdown",
      "metadata": {
        "id": "nE65x-N7u8he"
      },
      "source": [
        "## Divison de datos de entrenamiento, prueba y validacion"
      ]
    },
    {
      "cell_type": "code",
      "execution_count": null,
      "metadata": {
        "id": "3KZ7QLjRvBa0"
      },
      "outputs": [],
      "source": [
        "import os\n",
        "import shutil\n",
        "import random\n",
        "\n",
        "def split_data(source_dir, train_dir, test_dir, val_dir, total_files=1000, train_ratio=0.7, test_ratio=0.2, val_ratio=0.1):\n",
        "    files = os.listdir(source_dir)\n",
        "    random.shuffle(files)\n",
        "\n",
        "    # Seleccionar 1000 archivos de manera aleatoria\n",
        "    selected_files = files[:total_files]\n",
        "\n",
        "    train_split = int(total_files * train_ratio)\n",
        "    test_split = int(total_files * (train_ratio + test_ratio))\n",
        "\n",
        "    train_files = selected_files[:train_split]\n",
        "    test_files = selected_files[train_split:test_split]\n",
        "    val_files = selected_files[test_split:]\n",
        "\n",
        "    for file in train_files:\n",
        "        shutil.copy(os.path.join(source_dir, file), os.path.join(train_dir, file))\n",
        "\n",
        "    for file in test_files:\n",
        "        shutil.copy(os.path.join(source_dir, file), os.path.join(test_dir, file))\n",
        "\n",
        "    for file in val_files:\n",
        "        shutil.copy(os.path.join(source_dir, file), os.path.join(val_dir, file))\n",
        "\n",
        "# Define your directories\n",
        "base_dir = '/content/drive/MyDrive/IA/DDD'\n",
        "source_drowsy_dir = os.path.join(base_dir, 'DROWSY')\n",
        "source_non_drowsy_dir = os.path.join(base_dir, 'NATURAL')\n",
        "\n",
        "train_drowsy_dir = os.path.join(base_dir, 'train', 'DROWSY')\n",
        "test_drowsy_dir = os.path.join(base_dir, 'test', 'DROWSY')\n",
        "val_drowsy_dir = os.path.join(base_dir, 'validation', 'DROWSY')\n",
        "\n",
        "train_non_drowsy_dir = os.path.join(base_dir, 'train', 'NATURAL')\n",
        "test_non_drowsy_dir = os.path.join(base_dir, 'test', 'NATURAL')\n",
        "val_non_drowsy_dir = os.path.join(base_dir, 'validation', 'NATURAL')\n",
        "\n",
        "# Create directories if they don't exist\n",
        "os.makedirs(train_drowsy_dir, exist_ok=True)\n",
        "os.makedirs(test_drowsy_dir, exist_ok=True)\n",
        "os.makedirs(val_drowsy_dir, exist_ok=True)\n",
        "os.makedirs(train_non_drowsy_dir, exist_ok=True)\n",
        "os.makedirs(test_non_drowsy_dir, exist_ok=True)\n",
        "os.makedirs(val_non_drowsy_dir, exist_ok=True)\n",
        "\n",
        "# Split the data\n",
        "split_data(source_drowsy_dir, train_drowsy_dir, test_drowsy_dir, val_drowsy_dir)\n",
        "split_data(source_non_drowsy_dir, train_non_drowsy_dir, test_non_drowsy_dir, val_non_drowsy_dir)"
      ]
    },
    {
      "cell_type": "markdown",
      "metadata": {
        "id": "i7q321dcslSH"
      },
      "source": [
        "## Preprocesamiento de datos"
      ]
    },
    {
      "cell_type": "code",
      "execution_count": 5,
      "metadata": {
        "colab": {
          "base_uri": "https://localhost:8080/"
        },
        "id": "lVbqiVzEKwFi",
        "outputId": "40c99fab-3fa0-4308-8694-a780cbb215b5"
      },
      "outputs": [
        {
          "output_type": "stream",
          "name": "stdout",
          "text": [
            "Found 1400 images belonging to 2 classes.\n",
            "Found 202 images belonging to 2 classes.\n",
            "Found 398 images belonging to 2 classes.\n"
          ]
        }
      ],
      "source": [
        "train_datagen = ImageDataGenerator(rescale=1./255)\n",
        "test_val_datagen = ImageDataGenerator(rescale=1./255)\n",
        "\n",
        "train_generator = train_datagen.flow_from_directory(\n",
        "    os.path.join(base_dir, 'train'),\n",
        "    target_size=(150, 150),\n",
        "    batch_size=32,\n",
        "    class_mode='binary'\n",
        ")\n",
        "\n",
        "validation_generator = test_val_datagen.flow_from_directory(\n",
        "    os.path.join(base_dir, 'validation'),\n",
        "    target_size=(150, 150),\n",
        "    batch_size=32,\n",
        "    class_mode='binary'\n",
        ")\n",
        "\n",
        "test_generator = test_val_datagen.flow_from_directory(\n",
        "    os.path.join(base_dir, 'test'),\n",
        "    target_size=(150, 150),\n",
        "    batch_size=32,\n",
        "    class_mode='binary'\n",
        ")"
      ]
    },
    {
      "cell_type": "markdown",
      "metadata": {
        "id": "T54ltOO2ts2f"
      },
      "source": [
        "## Definir el modelo"
      ]
    },
    {
      "cell_type": "code",
      "execution_count": 6,
      "metadata": {
        "colab": {
          "base_uri": "https://localhost:8080/"
        },
        "id": "BotXAKWitu5N",
        "outputId": "5b0f8159-0228-4a24-c6c5-9e600e45e95b"
      },
      "outputs": [
        {
          "output_type": "stream",
          "name": "stderr",
          "text": [
            "WARNING:absl:`lr` is deprecated in Keras optimizer, please use `learning_rate` or use the legacy optimizer, e.g.,tf.keras.optimizers.legacy.Adam.\n"
          ]
        }
      ],
      "source": [
        "model = Sequential([\n",
        "    Conv2D(32, (3, 3), activation='relu', input_shape=(150, 150, 3)),\n",
        "    MaxPooling2D(2, 2),\n",
        "    Conv2D(64, (3, 3), activation='relu'),\n",
        "    MaxPooling2D(2, 2),\n",
        "    Conv2D(128, (3, 3), activation='relu'),\n",
        "    MaxPooling2D(2, 2),\n",
        "    Flatten(),\n",
        "    Dense(512, activation='relu'),\n",
        "    Dropout(0.5),\n",
        "    Dense(1, activation='sigmoid')\n",
        "])\n",
        "\n",
        "model.compile(optimizer=Adam(lr=0.001), loss='binary_crossentropy', metrics=['accuracy'])"
      ]
    },
    {
      "cell_type": "markdown",
      "metadata": {
        "id": "ZzYsTJoDt04z"
      },
      "source": [
        "## Entrenar el modelo"
      ]
    },
    {
      "cell_type": "code",
      "execution_count": 7,
      "metadata": {
        "colab": {
          "base_uri": "https://localhost:8080/"
        },
        "id": "AbzsUOF9t3qy",
        "outputId": "ae83d76a-2efa-431e-e850-4a4081a2f9e5"
      },
      "outputs": [
        {
          "output_type": "stream",
          "name": "stdout",
          "text": [
            "Epoch 1/50\n",
            "43/43 [==============================] - 352s 8s/step - loss: 0.5689 - accuracy: 0.7237 - val_loss: 0.3294 - val_accuracy: 0.8594\n",
            "Epoch 2/50\n",
            "43/43 [==============================] - 82s 2s/step - loss: 0.2630 - accuracy: 0.8808 - val_loss: 0.1937 - val_accuracy: 0.9010\n",
            "Epoch 3/50\n",
            "43/43 [==============================] - 84s 2s/step - loss: 0.1825 - accuracy: 0.9327 - val_loss: 0.1472 - val_accuracy: 0.9531\n",
            "Epoch 4/50\n",
            "43/43 [==============================] - 85s 2s/step - loss: 0.1226 - accuracy: 0.9532 - val_loss: 0.1709 - val_accuracy: 0.9427\n",
            "Epoch 5/50\n",
            "43/43 [==============================] - 85s 2s/step - loss: 0.0790 - accuracy: 0.9759 - val_loss: 0.1517 - val_accuracy: 0.9531\n",
            "Epoch 6/50\n",
            "43/43 [==============================] - 82s 2s/step - loss: 0.0690 - accuracy: 0.9744 - val_loss: 0.1505 - val_accuracy: 0.9531\n",
            "Epoch 7/50\n",
            "43/43 [==============================] - 85s 2s/step - loss: 0.0535 - accuracy: 0.9759 - val_loss: 0.1460 - val_accuracy: 0.9688\n",
            "Epoch 8/50\n",
            "43/43 [==============================] - 84s 2s/step - loss: 0.0344 - accuracy: 0.9883 - val_loss: 0.1856 - val_accuracy: 0.9531\n",
            "Epoch 9/50\n",
            "43/43 [==============================] - 82s 2s/step - loss: 0.0200 - accuracy: 0.9956 - val_loss: 0.1454 - val_accuracy: 0.9635\n",
            "Epoch 10/50\n",
            "43/43 [==============================] - 85s 2s/step - loss: 0.0201 - accuracy: 0.9942 - val_loss: 0.1990 - val_accuracy: 0.9479\n",
            "Epoch 11/50\n",
            "43/43 [==============================] - 83s 2s/step - loss: 0.0151 - accuracy: 0.9978 - val_loss: 0.1745 - val_accuracy: 0.9531\n",
            "Epoch 12/50\n",
            "43/43 [==============================] - 81s 2s/step - loss: 0.0083 - accuracy: 0.9978 - val_loss: 0.1989 - val_accuracy: 0.9583\n",
            "Epoch 13/50\n",
            "43/43 [==============================] - 81s 2s/step - loss: 0.0031 - accuracy: 0.9993 - val_loss: 0.2020 - val_accuracy: 0.9635\n",
            "Epoch 14/50\n",
            "43/43 [==============================] - 85s 2s/step - loss: 0.0052 - accuracy: 0.9978 - val_loss: 0.1425 - val_accuracy: 0.9740\n",
            "Epoch 15/50\n",
            "43/43 [==============================] - 84s 2s/step - loss: 0.0194 - accuracy: 0.9927 - val_loss: 0.1482 - val_accuracy: 0.9688\n",
            "Epoch 16/50\n",
            "43/43 [==============================] - 84s 2s/step - loss: 0.0115 - accuracy: 0.9963 - val_loss: 0.2232 - val_accuracy: 0.9479\n",
            "Epoch 17/50\n",
            "43/43 [==============================] - 82s 2s/step - loss: 0.0147 - accuracy: 0.9956 - val_loss: 0.2327 - val_accuracy: 0.9583\n",
            "Epoch 18/50\n",
            "43/43 [==============================] - 84s 2s/step - loss: 0.0084 - accuracy: 0.9978 - val_loss: 0.2463 - val_accuracy: 0.9688\n",
            "Epoch 19/50\n",
            "43/43 [==============================] - 85s 2s/step - loss: 0.0070 - accuracy: 0.9978 - val_loss: 0.2137 - val_accuracy: 0.9688\n",
            "Epoch 20/50\n",
            "43/43 [==============================] - 79s 2s/step - loss: 0.0131 - accuracy: 0.9956 - val_loss: 0.2624 - val_accuracy: 0.9531\n",
            "Epoch 21/50\n",
            "43/43 [==============================] - 83s 2s/step - loss: 0.0303 - accuracy: 0.9876 - val_loss: 0.2867 - val_accuracy: 0.9219\n",
            "Epoch 22/50\n",
            "43/43 [==============================] - 83s 2s/step - loss: 0.0237 - accuracy: 0.9934 - val_loss: 0.1848 - val_accuracy: 0.9583\n",
            "Epoch 23/50\n",
            "43/43 [==============================] - 80s 2s/step - loss: 0.0052 - accuracy: 0.9978 - val_loss: 0.2668 - val_accuracy: 0.9427\n",
            "Epoch 24/50\n",
            "43/43 [==============================] - 82s 2s/step - loss: 0.0017 - accuracy: 1.0000 - val_loss: 0.2349 - val_accuracy: 0.9427\n",
            "Epoch 25/50\n",
            "43/43 [==============================] - 80s 2s/step - loss: 0.0010 - accuracy: 1.0000 - val_loss: 0.2714 - val_accuracy: 0.9479\n",
            "Epoch 26/50\n",
            "43/43 [==============================] - 80s 2s/step - loss: 3.5068e-04 - accuracy: 1.0000 - val_loss: 0.2612 - val_accuracy: 0.9583\n",
            "Epoch 27/50\n",
            "43/43 [==============================] - 82s 2s/step - loss: 3.2929e-04 - accuracy: 1.0000 - val_loss: 0.2802 - val_accuracy: 0.9635\n",
            "Epoch 28/50\n",
            "43/43 [==============================] - 84s 2s/step - loss: 4.8236e-04 - accuracy: 1.0000 - val_loss: 0.2464 - val_accuracy: 0.9688\n",
            "Epoch 29/50\n",
            "43/43 [==============================] - 91s 2s/step - loss: 1.2895e-04 - accuracy: 1.0000 - val_loss: 0.2593 - val_accuracy: 0.9635\n",
            "Epoch 30/50\n",
            "43/43 [==============================] - 84s 2s/step - loss: 9.1701e-04 - accuracy: 1.0000 - val_loss: 0.2207 - val_accuracy: 0.9635\n",
            "Epoch 31/50\n",
            "43/43 [==============================] - 88s 2s/step - loss: 1.8467e-04 - accuracy: 1.0000 - val_loss: 0.2530 - val_accuracy: 0.9688\n",
            "Epoch 32/50\n",
            "43/43 [==============================] - 88s 2s/step - loss: 1.7174e-04 - accuracy: 1.0000 - val_loss: 0.2433 - val_accuracy: 0.9583\n",
            "Epoch 33/50\n",
            "43/43 [==============================] - 83s 2s/step - loss: 6.3457e-05 - accuracy: 1.0000 - val_loss: 0.1773 - val_accuracy: 0.9688\n",
            "Epoch 34/50\n",
            "43/43 [==============================] - 82s 2s/step - loss: 1.9981e-04 - accuracy: 1.0000 - val_loss: 0.2479 - val_accuracy: 0.9583\n",
            "Epoch 35/50\n",
            "43/43 [==============================] - 82s 2s/step - loss: 9.3025e-05 - accuracy: 1.0000 - val_loss: 0.2610 - val_accuracy: 0.9583\n",
            "Epoch 36/50\n",
            "43/43 [==============================] - 82s 2s/step - loss: 5.4160e-05 - accuracy: 1.0000 - val_loss: 0.2574 - val_accuracy: 0.9583\n",
            "Epoch 37/50\n",
            "43/43 [==============================] - 83s 2s/step - loss: 0.0391 - accuracy: 0.9861 - val_loss: 0.4775 - val_accuracy: 0.9219\n",
            "Epoch 38/50\n",
            "43/43 [==============================] - 81s 2s/step - loss: 0.0557 - accuracy: 0.9846 - val_loss: 0.2301 - val_accuracy: 0.9635\n",
            "Epoch 39/50\n",
            "43/43 [==============================] - 80s 2s/step - loss: 0.0222 - accuracy: 0.9920 - val_loss: 0.2591 - val_accuracy: 0.9583\n",
            "Epoch 40/50\n",
            "43/43 [==============================] - 83s 2s/step - loss: 0.0227 - accuracy: 0.9905 - val_loss: 0.2006 - val_accuracy: 0.9635\n",
            "Epoch 41/50\n",
            "43/43 [==============================] - 83s 2s/step - loss: 0.0018 - accuracy: 1.0000 - val_loss: 0.2510 - val_accuracy: 0.9688\n",
            "Epoch 42/50\n",
            "43/43 [==============================] - 82s 2s/step - loss: 0.0010 - accuracy: 1.0000 - val_loss: 0.2614 - val_accuracy: 0.9583\n",
            "Epoch 43/50\n",
            "43/43 [==============================] - 82s 2s/step - loss: 0.0051 - accuracy: 0.9971 - val_loss: 0.2877 - val_accuracy: 0.9479\n",
            "Epoch 44/50\n",
            "43/43 [==============================] - 82s 2s/step - loss: 0.0255 - accuracy: 0.9956 - val_loss: 0.3434 - val_accuracy: 0.9479\n",
            "Epoch 45/50\n",
            "43/43 [==============================] - 82s 2s/step - loss: 0.0047 - accuracy: 0.9985 - val_loss: 0.2548 - val_accuracy: 0.9479\n",
            "Epoch 46/50\n",
            "43/43 [==============================] - 82s 2s/step - loss: 5.7901e-04 - accuracy: 1.0000 - val_loss: 0.2153 - val_accuracy: 0.9688\n",
            "Epoch 47/50\n",
            "43/43 [==============================] - 79s 2s/step - loss: 1.2996e-04 - accuracy: 1.0000 - val_loss: 0.2902 - val_accuracy: 0.9635\n",
            "Epoch 48/50\n",
            "43/43 [==============================] - 82s 2s/step - loss: 3.1107e-04 - accuracy: 1.0000 - val_loss: 0.2206 - val_accuracy: 0.9688\n",
            "Epoch 49/50\n",
            "43/43 [==============================] - 80s 2s/step - loss: 1.2337e-04 - accuracy: 1.0000 - val_loss: 0.2805 - val_accuracy: 0.9635\n",
            "Epoch 50/50\n",
            "43/43 [==============================] - 85s 2s/step - loss: 6.2792e-05 - accuracy: 1.0000 - val_loss: 0.2275 - val_accuracy: 0.9688\n",
            "13/13 [==============================] - 129s 11s/step - loss: 0.3772 - accuracy: 0.9573\n",
            "Test Accuracy: 95.73%\n"
          ]
        }
      ],
      "source": [
        "history = model.fit(\n",
        "    train_generator,\n",
        "    steps_per_epoch=train_generator.samples // train_generator.batch_size,\n",
        "    validation_data=validation_generator,\n",
        "    validation_steps=validation_generator.samples // validation_generator.batch_size,\n",
        "    epochs=50\n",
        ")\n",
        "\n",
        "# Evaluar el modelo en el conjunto de prueba\n",
        "loss, accuracy = model.evaluate(test_generator)\n",
        "print(f'Test Accuracy: {accuracy * 100:.2f}%')"
      ]
    },
    {
      "cell_type": "markdown",
      "metadata": {
        "id": "9a0mKvpNuAfm"
      },
      "source": [
        "## Evaluar el modelo"
      ]
    },
    {
      "cell_type": "code",
      "execution_count": 8,
      "metadata": {
        "id": "WIj-QCVpuDsA",
        "colab": {
          "base_uri": "https://localhost:8080/"
        },
        "outputId": "221458f3-febe-4a35-d5bb-1cd42f3cced5"
      },
      "outputs": [
        {
          "output_type": "stream",
          "name": "stdout",
          "text": [
            "7/7 [==============================] - 5s 625ms/step - loss: 0.2780 - accuracy: 0.9653\n",
            "Validation Accuracy: 96.53%\n"
          ]
        }
      ],
      "source": [
        "loss, accuracy = model.evaluate(validation_generator)\n",
        "print(f'Validation Accuracy: {accuracy * 100:.2f}%')"
      ]
    },
    {
      "cell_type": "markdown",
      "metadata": {
        "id": "270B4BB3uE0b"
      },
      "source": [
        "## Guardar el modelo"
      ]
    },
    {
      "cell_type": "code",
      "execution_count": 9,
      "metadata": {
        "id": "06rAkSzFuKlm",
        "colab": {
          "base_uri": "https://localhost:8080/"
        },
        "outputId": "09a401ac-dfee-4dfc-fce3-9531bcaa9aa4"
      },
      "outputs": [
        {
          "output_type": "stream",
          "name": "stderr",
          "text": [
            "/usr/local/lib/python3.10/dist-packages/keras/src/engine/training.py:3103: UserWarning: You are saving your model as an HDF5 file via `model.save()`. This file format is considered legacy. We recommend using instead the native Keras format, e.g. `model.save('my_model.keras')`.\n",
            "  saving_api.save_model(\n"
          ]
        }
      ],
      "source": [
        "model.save('/content/drive/MyDrive/IA/DDD/NEW/drowsiness_detector_model.h5')"
      ]
    },
    {
      "cell_type": "markdown",
      "source": [
        "# Cargar modelo"
      ],
      "metadata": {
        "id": "Fd4Z2p1knIrt"
      }
    },
    {
      "cell_type": "code",
      "source": [
        "import tensorflow as tf\n",
        "from tensorflow.keras.models import load_model\n",
        "\n",
        "model_path = '/content/drive/MyDrive/IA/DDD/NEW/drowsiness_detector_model.h5'\n",
        "model = load_model(model_path)"
      ],
      "metadata": {
        "id": "sgZ_X9KPnLqp"
      },
      "execution_count": 10,
      "outputs": []
    },
    {
      "cell_type": "code",
      "source": [
        "model.summary()"
      ],
      "metadata": {
        "colab": {
          "base_uri": "https://localhost:8080/"
        },
        "id": "NxvaPmtWnRPA",
        "outputId": "ee588a12-6125-4c82-bcdc-0ed513e27441"
      },
      "execution_count": 11,
      "outputs": [
        {
          "output_type": "stream",
          "name": "stdout",
          "text": [
            "Model: \"sequential\"\n",
            "_________________________________________________________________\n",
            " Layer (type)                Output Shape              Param #   \n",
            "=================================================================\n",
            " conv2d (Conv2D)             (None, 148, 148, 32)      896       \n",
            "                                                                 \n",
            " max_pooling2d (MaxPooling2  (None, 74, 74, 32)        0         \n",
            " D)                                                              \n",
            "                                                                 \n",
            " conv2d_1 (Conv2D)           (None, 72, 72, 64)        18496     \n",
            "                                                                 \n",
            " max_pooling2d_1 (MaxPoolin  (None, 36, 36, 64)        0         \n",
            " g2D)                                                            \n",
            "                                                                 \n",
            " conv2d_2 (Conv2D)           (None, 34, 34, 128)       73856     \n",
            "                                                                 \n",
            " max_pooling2d_2 (MaxPoolin  (None, 17, 17, 128)       0         \n",
            " g2D)                                                            \n",
            "                                                                 \n",
            " flatten (Flatten)           (None, 36992)             0         \n",
            "                                                                 \n",
            " dense (Dense)               (None, 512)               18940416  \n",
            "                                                                 \n",
            " dropout (Dropout)           (None, 512)               0         \n",
            "                                                                 \n",
            " dense_1 (Dense)             (None, 1)                 513       \n",
            "                                                                 \n",
            "=================================================================\n",
            "Total params: 19034177 (72.61 MB)\n",
            "Trainable params: 19034177 (72.61 MB)\n",
            "Non-trainable params: 0 (0.00 Byte)\n",
            "_________________________________________________________________\n"
          ]
        }
      ]
    },
    {
      "cell_type": "code",
      "source": [
        "from tensorflow.keras.preprocessing import image\n",
        "import numpy as np\n",
        "\n",
        "def predict_image(img_path, model):\n",
        "    img = image.load_img(img_path, target_size=(150, 150))\n",
        "    img_array = image.img_to_array(img)\n",
        "    img_array = np.expand_dims(img_array, axis=0)\n",
        "    img_array /= 255.0\n",
        "\n",
        "    prediction = model.predict(img_array)\n",
        "    return 'NORMAL' if prediction[0][0] > 0.5 else 'DROWSY'\n",
        "\n",
        "img_path = '/content/drive/MyDrive/IA/DDD/NEW/Prueba/4N.png'\n",
        "result = predict_image(img_path, model)\n",
        "print(f'The person in the image is {result}')"
      ],
      "metadata": {
        "colab": {
          "base_uri": "https://localhost:8080/"
        },
        "id": "MBNvKngCnUT_",
        "outputId": "2f9cfc37-617c-405a-bdd0-45ecc94df80d"
      },
      "execution_count": 12,
      "outputs": [
        {
          "output_type": "stream",
          "name": "stdout",
          "text": [
            "1/1 [==============================] - 0s 319ms/step\n",
            "The person in the image is NORMAL\n"
          ]
        }
      ]
    },
    {
      "cell_type": "markdown",
      "source": [
        "## Evaluacion del modelo"
      ],
      "metadata": {
        "id": "ESBbt1u2o5pT"
      }
    },
    {
      "cell_type": "code",
      "source": [
        "# Configurar el generador de datos de prueba\n",
        "base_dir = '/content/drive/MyDrive/IA/DDD'\n",
        "test_datagen = ImageDataGenerator(rescale=1./255)\n",
        "\n",
        "test_generator = test_datagen.flow_from_directory(\n",
        "    os.path.join(base_dir, 'test'),\n",
        "    target_size=(150, 150),\n",
        "    batch_size=32,\n",
        "    class_mode='binary',\n",
        "    shuffle=False\n",
        ")\n",
        "\n",
        "# Evaluar el modelo\n",
        "loss, accuracy = model.evaluate(test_generator)\n",
        "print(f'Test Accuracy: {accuracy * 100:.2f}%')\n",
        "print(f'Test Loss: {loss}')\n",
        "\n",
        "# Obtener predicciones y etiquetas verdaderas\n",
        "Y_pred = model.predict(test_generator)\n",
        "y_pred = np.round(Y_pred).astype(int).reshape(-1)\n",
        "y_true = test_generator.classes\n",
        "\n",
        "# Generar reporte de clasificación\n",
        "print(classification_report(y_true, y_pred, target_names=['NORMAL', 'DROWSY']))\n",
        "\n",
        "# Crear y visualizar la matriz de confusión\n",
        "cm = confusion_matrix(y_true, y_pred)\n",
        "plt.figure(figsize=(8, 6))\n",
        "sns.heatmap(cm, annot=True, fmt=\"d\", cmap=\"Blues\", xticklabels=['NORMAL', 'DROWSY'], yticklabels=['NORMAL', 'DROWSY'])\n",
        "plt.xlabel('Predicted')\n",
        "plt.ylabel('True')\n",
        "plt.show()\n"
      ],
      "metadata": {
        "colab": {
          "base_uri": "https://localhost:8080/",
          "height": 785
        },
        "id": "II-gE3CFn22z",
        "outputId": "a2698a56-2de9-49f6-a8e9-b7dd39613078"
      },
      "execution_count": 13,
      "outputs": [
        {
          "output_type": "stream",
          "name": "stdout",
          "text": [
            "Found 398 images belonging to 2 classes.\n",
            "13/13 [==============================] - 8s 520ms/step - loss: 0.3772 - accuracy: 0.9573\n",
            "Test Accuracy: 95.73%\n",
            "Test Loss: 0.37723514437675476\n",
            "13/13 [==============================] - 12s 909ms/step\n",
            "              precision    recall  f1-score   support\n",
            "\n",
            "      NORMAL       0.94      0.98      0.96       199\n",
            "      DROWSY       0.98      0.93      0.96       199\n",
            "\n",
            "    accuracy                           0.96       398\n",
            "   macro avg       0.96      0.96      0.96       398\n",
            "weighted avg       0.96      0.96      0.96       398\n",
            "\n"
          ]
        },
        {
          "output_type": "display_data",
          "data": {
            "text/plain": [
              "<Figure size 800x600 with 2 Axes>"
            ],
            "image/png": "[encoded data removed]"
          },
          "metadata": {}
        }
      ]
    },
    {
      "cell_type": "code",
      "source": [],
      "metadata": {
        "id": "iYSWXKyjpIAe"
      },
      "execution_count": null,
      "outputs": []
    }
  ],
  "metadata": {
    "accelerator": "GPU",
    "colab": {
      "gpuType": "T4",
      "provenance": []
    },
    "kernelspec": {
      "display_name": "Python 3",
      "name": "python3"
    },
    "language_info": {
      "name": "python"
    }
  },
  "nbformat": 4,
  "nbformat_minor": 0
}